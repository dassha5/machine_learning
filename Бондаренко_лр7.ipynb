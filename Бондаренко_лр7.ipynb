{
  "nbformat": 4,
  "nbformat_minor": 0,
  "metadata": {
    "colab": {
      "provenance": [],
      "gpuType": "T4"
    },
    "kernelspec": {
      "name": "python3",
      "display_name": "Python 3"
    },
    "language_info": {
      "name": "python"
    },
    "accelerator": "GPU"
  },
  "cells": [
    {
      "cell_type": "markdown",
      "source": [
        "#Лабораторна робота 7"
      ],
      "metadata": {
        "id": "NyBtH-agwRiV"
      }
    },
    {
      "cell_type": "code",
      "source": [
        "!pip install scikit-surprise"
      ],
      "metadata": {
        "id": "72QHFSPxwgVB",
        "colab": {
          "base_uri": "https://localhost:8080/"
        },
        "outputId": "dc67d434-d8d1-4dd2-b535-d04faf84a850"
      },
      "execution_count": null,
      "outputs": [
        {
          "output_type": "stream",
          "name": "stdout",
          "text": [
            "Collecting scikit-surprise\n",
            "  Downloading scikit_surprise-1.1.4.tar.gz (154 kB)\n",
            "\u001b[2K     \u001b[90m━━━━━━━━━━━━━━━━━━━━━━━━━━━━━━━━━━━━━━━━\u001b[0m \u001b[32m154.4/154.4 kB\u001b[0m \u001b[31m488.2 kB/s\u001b[0m eta \u001b[36m0:00:00\u001b[0m\n",
            "\u001b[?25h  Installing build dependencies ... \u001b[?25l\u001b[?25hdone\n",
            "  Getting requirements to build wheel ... \u001b[?25l\u001b[?25hdone\n",
            "  Preparing metadata (pyproject.toml) ... \u001b[?25l\u001b[?25hdone\n",
            "Requirement already satisfied: joblib>=1.2.0 in /usr/local/lib/python3.10/dist-packages (from scikit-surprise) (1.4.2)\n",
            "Requirement already satisfied: numpy>=1.19.5 in /usr/local/lib/python3.10/dist-packages (from scikit-surprise) (1.26.4)\n",
            "Requirement already satisfied: scipy>=1.6.0 in /usr/local/lib/python3.10/dist-packages (from scikit-surprise) (1.13.1)\n",
            "Building wheels for collected packages: scikit-surprise\n",
            "  Building wheel for scikit-surprise (pyproject.toml) ... \u001b[?25l\u001b[?25hdone\n",
            "  Created wheel for scikit-surprise: filename=scikit_surprise-1.1.4-cp310-cp310-linux_x86_64.whl size=2357297 sha256=ad835bc020900b6993379955bcc27ec95ceb2cd908c14eabaccc2637c061f11c\n",
            "  Stored in directory: /root/.cache/pip/wheels/4b/3f/df/6acbf0a40397d9bf3ff97f582cc22fb9ce66adde75bc71fd54\n",
            "Successfully built scikit-surprise\n",
            "Installing collected packages: scikit-surprise\n",
            "Successfully installed scikit-surprise-1.1.4\n"
          ]
        }
      ]
    },
    {
      "cell_type": "code",
      "source": [
        "from surprise import Dataset, Reader\n",
        "from surprise import SVD, KNNBasic\n",
        "from surprise.model_selection import cross_validate, GridSearchCV\n",
        "from surprise import accuracy\n",
        "from surprise.model_selection import train_test_split"
      ],
      "metadata": {
        "id": "uMvC6zgk4E2c"
      },
      "execution_count": null,
      "outputs": []
    },
    {
      "cell_type": "code",
      "source": [
        "data = Dataset.load_builtin('ml-100k')\n",
        "\n",
        "print(\"Перші 5 рядків датасету:\")\n",
        "for row in data.raw_ratings[:5]:\n",
        "    print(row)"
      ],
      "metadata": {
        "colab": {
          "base_uri": "https://localhost:8080/"
        },
        "id": "n3QN6meK5ft8",
        "outputId": "fd1c128b-397c-4250-c243-d45a1c5be0b7"
      },
      "execution_count": null,
      "outputs": [
        {
          "output_type": "stream",
          "name": "stdout",
          "text": [
            "Перші 5 рядків датасету:\n",
            "('196', '242', 3.0, '881250949')\n",
            "('186', '302', 3.0, '891717742')\n",
            "('22', '377', 1.0, '878887116')\n",
            "('244', '51', 2.0, '880606923')\n",
            "('166', '346', 1.0, '886397596')\n"
          ]
        }
      ]
    },
    {
      "cell_type": "code",
      "source": [
        "data = Dataset.load_builtin('ml-100k')\n",
        "\n",
        "print(\"Перші 5 рядків датасету з поясненням:\")\n",
        "for row in data.raw_ratings[:5]:\n",
        "    user_id, movie_id, rating, timestamp = row\n",
        "    print(f\"Користувач {user_id} оцінив фільм {movie_id} на {rating} балів (часова позначка: {timestamp})\")"
      ],
      "metadata": {
        "colab": {
          "base_uri": "https://localhost:8080/"
        },
        "id": "mZ0z24vx4NgY",
        "outputId": "665da94b-19dd-4b28-a445-74246a63aa4b"
      },
      "execution_count": null,
      "outputs": [
        {
          "output_type": "stream",
          "name": "stdout",
          "text": [
            "Перші 5 рядків датасету з поясненням:\n",
            "Користувач 196 оцінив фільм 242 на 3.0 балів (часова позначка: 881250949)\n",
            "Користувач 186 оцінив фільм 302 на 3.0 балів (часова позначка: 891717742)\n",
            "Користувач 22 оцінив фільм 377 на 1.0 балів (часова позначка: 878887116)\n",
            "Користувач 244 оцінив фільм 51 на 2.0 балів (часова позначка: 880606923)\n",
            "Користувач 166 оцінив фільм 346 на 1.0 балів (часова позначка: 886397596)\n"
          ]
        }
      ]
    },
    {
      "cell_type": "code",
      "source": [
        "trainset, testset = train_test_split(data, test_size=0.2)\n",
        "\n",
        "# Параметри для підбору через GridSearchCV для SVD\n",
        "param_grid_svd = {\n",
        "    'n_factors': [50, 100],\n",
        "    'lr_all': [0.005, 0.010],\n",
        "    'reg_all': [0.02, 0.05]\n",
        "}\n",
        "\n",
        "# Параметри для підбору через GridSearchCV для KNNBasic\n",
        "param_grid_knn = {\n",
        "    'k': [20, 40],\n",
        "    'min_k': [1, 5],\n",
        "    'sim_options': {\n",
        "        'name': ['cosine', 'pearson'],\n",
        "        'user_based': [False, True]\n",
        "    }\n",
        "}\n",
        "\n",
        "grid_search_svd = GridSearchCV(SVD, param_grid_svd, measures=['rmse', 'mae'], cv=5)\n",
        "grid_search_svd.fit(data)\n",
        "\n",
        "grid_search_knn = GridSearchCV(KNNBasic, param_grid_knn, measures=['rmse', 'mae'], cv=5)\n",
        "grid_search_knn.fit(data)"
      ],
      "metadata": {
        "colab": {
          "base_uri": "https://localhost:8080/"
        },
        "id": "8JkoosHy4ol5",
        "outputId": "8eb4cfce-e50c-4d79-9890-c4f5427da6d4"
      },
      "execution_count": null,
      "outputs": [
        {
          "output_type": "stream",
          "name": "stdout",
          "text": [
            "Computing the cosine similarity matrix...\n",
            "Done computing similarity matrix.\n",
            "Computing the cosine similarity matrix...\n",
            "Done computing similarity matrix.\n",
            "Computing the cosine similarity matrix...\n",
            "Done computing similarity matrix.\n",
            "Computing the cosine similarity matrix...\n",
            "Done computing similarity matrix.\n",
            "Computing the cosine similarity matrix...\n",
            "Done computing similarity matrix.\n",
            "Computing the cosine similarity matrix...\n",
            "Done computing similarity matrix.\n",
            "Computing the cosine similarity matrix...\n",
            "Done computing similarity matrix.\n",
            "Computing the cosine similarity matrix...\n",
            "Done computing similarity matrix.\n",
            "Computing the cosine similarity matrix...\n",
            "Done computing similarity matrix.\n",
            "Computing the cosine similarity matrix...\n",
            "Done computing similarity matrix.\n",
            "Computing the pearson similarity matrix...\n",
            "Done computing similarity matrix.\n",
            "Computing the pearson similarity matrix...\n",
            "Done computing similarity matrix.\n",
            "Computing the pearson similarity matrix...\n",
            "Done computing similarity matrix.\n",
            "Computing the pearson similarity matrix...\n",
            "Done computing similarity matrix.\n",
            "Computing the pearson similarity matrix...\n",
            "Done computing similarity matrix.\n",
            "Computing the pearson similarity matrix...\n",
            "Done computing similarity matrix.\n",
            "Computing the pearson similarity matrix...\n",
            "Done computing similarity matrix.\n",
            "Computing the pearson similarity matrix...\n",
            "Done computing similarity matrix.\n",
            "Computing the pearson similarity matrix...\n",
            "Done computing similarity matrix.\n",
            "Computing the pearson similarity matrix...\n",
            "Done computing similarity matrix.\n",
            "Computing the cosine similarity matrix...\n",
            "Done computing similarity matrix.\n",
            "Computing the cosine similarity matrix...\n",
            "Done computing similarity matrix.\n",
            "Computing the cosine similarity matrix...\n",
            "Done computing similarity matrix.\n",
            "Computing the cosine similarity matrix...\n",
            "Done computing similarity matrix.\n",
            "Computing the cosine similarity matrix...\n",
            "Done computing similarity matrix.\n",
            "Computing the cosine similarity matrix...\n",
            "Done computing similarity matrix.\n",
            "Computing the cosine similarity matrix...\n",
            "Done computing similarity matrix.\n",
            "Computing the cosine similarity matrix...\n",
            "Done computing similarity matrix.\n",
            "Computing the cosine similarity matrix...\n",
            "Done computing similarity matrix.\n",
            "Computing the cosine similarity matrix...\n",
            "Done computing similarity matrix.\n",
            "Computing the pearson similarity matrix...\n",
            "Done computing similarity matrix.\n",
            "Computing the pearson similarity matrix...\n",
            "Done computing similarity matrix.\n",
            "Computing the pearson similarity matrix...\n",
            "Done computing similarity matrix.\n",
            "Computing the pearson similarity matrix...\n",
            "Done computing similarity matrix.\n",
            "Computing the pearson similarity matrix...\n",
            "Done computing similarity matrix.\n",
            "Computing the pearson similarity matrix...\n",
            "Done computing similarity matrix.\n",
            "Computing the pearson similarity matrix...\n",
            "Done computing similarity matrix.\n",
            "Computing the pearson similarity matrix...\n",
            "Done computing similarity matrix.\n",
            "Computing the pearson similarity matrix...\n",
            "Done computing similarity matrix.\n",
            "Computing the pearson similarity matrix...\n",
            "Done computing similarity matrix.\n",
            "Computing the cosine similarity matrix...\n",
            "Done computing similarity matrix.\n",
            "Computing the cosine similarity matrix...\n",
            "Done computing similarity matrix.\n",
            "Computing the cosine similarity matrix...\n",
            "Done computing similarity matrix.\n",
            "Computing the cosine similarity matrix...\n",
            "Done computing similarity matrix.\n",
            "Computing the cosine similarity matrix...\n",
            "Done computing similarity matrix.\n",
            "Computing the cosine similarity matrix...\n",
            "Done computing similarity matrix.\n",
            "Computing the cosine similarity matrix...\n",
            "Done computing similarity matrix.\n",
            "Computing the cosine similarity matrix...\n",
            "Done computing similarity matrix.\n",
            "Computing the cosine similarity matrix...\n",
            "Done computing similarity matrix.\n",
            "Computing the cosine similarity matrix...\n",
            "Done computing similarity matrix.\n",
            "Computing the pearson similarity matrix...\n",
            "Done computing similarity matrix.\n",
            "Computing the pearson similarity matrix...\n",
            "Done computing similarity matrix.\n",
            "Computing the pearson similarity matrix...\n",
            "Done computing similarity matrix.\n",
            "Computing the pearson similarity matrix...\n",
            "Done computing similarity matrix.\n",
            "Computing the pearson similarity matrix...\n",
            "Done computing similarity matrix.\n",
            "Computing the pearson similarity matrix...\n",
            "Done computing similarity matrix.\n",
            "Computing the pearson similarity matrix...\n",
            "Done computing similarity matrix.\n",
            "Computing the pearson similarity matrix...\n",
            "Done computing similarity matrix.\n",
            "Computing the pearson similarity matrix...\n",
            "Done computing similarity matrix.\n",
            "Computing the pearson similarity matrix...\n",
            "Done computing similarity matrix.\n",
            "Computing the cosine similarity matrix...\n",
            "Done computing similarity matrix.\n",
            "Computing the cosine similarity matrix...\n",
            "Done computing similarity matrix.\n",
            "Computing the cosine similarity matrix...\n",
            "Done computing similarity matrix.\n",
            "Computing the cosine similarity matrix...\n",
            "Done computing similarity matrix.\n",
            "Computing the cosine similarity matrix...\n",
            "Done computing similarity matrix.\n",
            "Computing the cosine similarity matrix...\n",
            "Done computing similarity matrix.\n",
            "Computing the cosine similarity matrix...\n",
            "Done computing similarity matrix.\n",
            "Computing the cosine similarity matrix...\n",
            "Done computing similarity matrix.\n",
            "Computing the cosine similarity matrix...\n",
            "Done computing similarity matrix.\n",
            "Computing the cosine similarity matrix...\n",
            "Done computing similarity matrix.\n",
            "Computing the pearson similarity matrix...\n",
            "Done computing similarity matrix.\n",
            "Computing the pearson similarity matrix...\n",
            "Done computing similarity matrix.\n",
            "Computing the pearson similarity matrix...\n",
            "Done computing similarity matrix.\n",
            "Computing the pearson similarity matrix...\n",
            "Done computing similarity matrix.\n",
            "Computing the pearson similarity matrix...\n",
            "Done computing similarity matrix.\n",
            "Computing the pearson similarity matrix...\n",
            "Done computing similarity matrix.\n",
            "Computing the pearson similarity matrix...\n",
            "Done computing similarity matrix.\n",
            "Computing the pearson similarity matrix...\n",
            "Done computing similarity matrix.\n",
            "Computing the pearson similarity matrix...\n",
            "Done computing similarity matrix.\n",
            "Computing the pearson similarity matrix...\n",
            "Done computing similarity matrix.\n"
          ]
        }
      ]
    },
    {
      "cell_type": "code",
      "source": [
        "best_svd = grid_search_svd.best_estimator['mae']\n",
        "best_knn = grid_search_knn.best_estimator['mae']\n",
        "\n",
        "print(f\"Найкращий MAE для SVD: {grid_search_svd.best_score['mae']}\")\n",
        "print(f\"Найкращий MAE для KNNBasic: {grid_search_knn.best_score['mae']}\")\n",
        "\n",
        "# Вибір моделі з найменшим MAE\n",
        "if grid_search_svd.best_score['mae'] < grid_search_knn.best_score['mae']:\n",
        "    best_model = best_svd\n",
        "    print(\"Вибраний алгоритм: SVD\")\n",
        "else:\n",
        "    best_model = best_knn\n",
        "    print(\"Вибраний алгоритм: KNNBasic\")"
      ],
      "metadata": {
        "colab": {
          "base_uri": "https://localhost:8080/"
        },
        "id": "2go6GETg7ynx",
        "outputId": "8cf4f6cb-2725-4b10-f05e-a81d684dc6a7"
      },
      "execution_count": null,
      "outputs": [
        {
          "output_type": "stream",
          "name": "stdout",
          "text": [
            "Найкращий MAE для SVD: 0.7246773447231387\n",
            "Найкращий MAE для KNNBasic: 0.8030069352347221\n",
            "Вибраний алгоритм: SVD\n"
          ]
        }
      ]
    },
    {
      "cell_type": "code",
      "source": [
        "best_model.fit(trainset)\n",
        "\n",
        "# Виведення рекомендацій для конкретного користувача\n",
        "user_id = str(22)  # ID користувача для якого ми хочемо отримати рекомендації\n",
        "user_ratings = trainset.ur[trainset.to_inner_uid(user_id)]\n",
        "print(f\"Кількість рецензій користувача {user_id}: {len(user_ratings)}\")\n",
        "\n",
        "# Отримання рекомендацій\n",
        "all_items = set(trainset.all_items())\n",
        "rated_items = set([item for (item, _) in user_ratings])\n",
        "unrated_items = all_items - rated_items\n",
        "\n",
        "# Прогнозування рейтингів для нерецензованих фільмів\n",
        "predictions = [(item, best_model.predict(user_id, trainset.to_raw_iid(item)).est) for item in unrated_items]\n",
        "predictions.sort(key=lambda x: x[1], reverse=True)\n",
        "\n",
        "# Виведення 10 найкращих фільмів\n",
        "print(\"Топ-10 фільмів, рекомендованих для користувача:\")\n",
        "for item_id, rating in predictions[:10]:\n",
        "    print(f\"Фільм {trainset.to_raw_iid(item_id)} з прогнозованим рейтингом {rating:.2f}\")"
      ],
      "metadata": {
        "colab": {
          "base_uri": "https://localhost:8080/"
        },
        "id": "jB1wEJ2Q74D1",
        "outputId": "a3f72fcd-f65d-4dd7-8644-f3add7609a2c"
      },
      "execution_count": null,
      "outputs": [
        {
          "output_type": "stream",
          "name": "stdout",
          "text": [
            "Кількість рецензій користувача 22: 102\n",
            "Топ-10 фільмів, рекомендованих для користувача:\n",
            "Фільм 100 з прогнозованим рейтингом 5.00\n",
            "Фільм 183 з прогнозованим рейтингом 4.86\n",
            "Фільм 12 з прогнозованим рейтингом 4.80\n",
            "Фільм 302 з прогнозованим рейтингом 4.75\n",
            "Фільм 50 з прогнозованим рейтингом 4.73\n",
            "Фільм 64 з прогнозованим рейтингом 4.69\n",
            "Фільм 357 з прогнозованим рейтингом 4.68\n",
            "Фільм 272 з прогнозованим рейтингом 4.65\n",
            "Фільм 1449 з прогнозованим рейтингом 4.62\n",
            "Фільм 98 з прогнозованим рейтингом 4.60\n"
          ]
        }
      ]
    },
    {
      "cell_type": "markdown",
      "source": [
        "Висновок - У даному завданні було створено рекомендаційну систему на основі датасету ml-100k, використовуючи бібліотеку Surprise. Завантажила дані,що дозволили ознайомитися зі структурою. Реалізувала два алгоритми для рекомендаційної системи: SVD та KNNBasic.  Результати показали, що найкращий MAE для SVD становив 0.7247, тоді як для KNNBasic — 0.8030. На основі цих показників було обрано SVD як найкращий алгоритм для даної задачі. Також система надала 10 найкращих фільмів, рекомендованих для перегляду, з урахуванням уподобань користувача."
      ],
      "metadata": {
        "id": "K84Hi_Wi9MHr"
      }
    },
    {
      "cell_type": "markdown",
      "source": [
        "Завдання 2"
      ],
      "metadata": {
        "id": "EQdy-f3u9wCI"
      }
    },
    {
      "cell_type": "code",
      "source": [
        "# Встановлення бібліотеки Surprise\n",
        "!pip install scikit-surprise"
      ],
      "metadata": {
        "colab": {
          "base_uri": "https://localhost:8080/"
        },
        "id": "sMA1hGHlAy3Z",
        "outputId": "0dc26bfd-d6f2-4b39-fdb9-6e21e1764340"
      },
      "execution_count": null,
      "outputs": [
        {
          "output_type": "stream",
          "name": "stdout",
          "text": [
            "Requirement already satisfied: scikit-surprise in /usr/local/lib/python3.10/dist-packages (1.1.4)\n",
            "Requirement already satisfied: joblib>=1.2.0 in /usr/local/lib/python3.10/dist-packages (from scikit-surprise) (1.4.2)\n",
            "Requirement already satisfied: numpy>=1.19.5 in /usr/local/lib/python3.10/dist-packages (from scikit-surprise) (1.26.4)\n",
            "Requirement already satisfied: scipy>=1.6.0 in /usr/local/lib/python3.10/dist-packages (from scikit-surprise) (1.13.1)\n"
          ]
        }
      ]
    },
    {
      "cell_type": "code",
      "source": [
        "from surprise import Dataset, Reader\n",
        "from surprise import SVD, KNNBasic\n",
        "from surprise.model_selection import train_test_split, cross_validate\n",
        "from surprise import accuracy"
      ],
      "metadata": {
        "id": "2lqnvdSPA0dS"
      },
      "execution_count": null,
      "outputs": []
    },
    {
      "cell_type": "code",
      "source": [
        "# Завантаження датасету ml-100k\n",
        "data = Dataset.load_builtin('ml-100k')\n",
        "\n",
        "# Розподіл даних на тренувальний та тестовий набори\n",
        "trainset, testset = train_test_split(data, test_size=0.2)\n",
        "\n",
        "# Створення моделі SVD\n",
        "model = SVD()\n",
        "\n",
        "# Тренування моделі\n",
        "model.fit(trainset)\n",
        "\n",
        "# Оцінка моделі\n",
        "predictions = model.test(testset)\n",
        "\n",
        "# Оцінювання моделі з використанням RMSE та MAE\n",
        "rmse = accuracy.rmse(predictions)\n",
        "mae = accuracy.mae(predictions)"
      ],
      "metadata": {
        "colab": {
          "base_uri": "https://localhost:8080/"
        },
        "id": "w49w5yE3A6M3",
        "outputId": "86ce6748-c20a-4b26-b585-baec3efdd3b9"
      },
      "execution_count": null,
      "outputs": [
        {
          "output_type": "stream",
          "name": "stdout",
          "text": [
            "RMSE: 0.9281\n",
            "MAE:  0.7326\n"
          ]
        }
      ]
    },
    {
      "cell_type": "code",
      "source": [
        "print(f\"RMSE: {rmse:.2f}\")\n",
        "print(f\"MAE: {mae:.2f}\")"
      ],
      "metadata": {
        "colab": {
          "base_uri": "https://localhost:8080/"
        },
        "id": "3jnPPcXTBAyw",
        "outputId": "e7dd7044-9fc7-4012-afd2-34570937aaad"
      },
      "execution_count": null,
      "outputs": [
        {
          "output_type": "stream",
          "name": "stdout",
          "text": [
            "RMSE: 0.93\n",
            "MAE: 0.73\n"
          ]
        }
      ]
    },
    {
      "cell_type": "code",
      "source": [
        "# Отримання рекомендацій для конкретного користувача\n",
        "user_id = str(22)  # ID користувача для якого ми хочемо отримати рекомендації\n",
        "\n",
        "# Отримання всіх фільмів\n",
        "all_items = set(trainset.all_items())\n",
        "\n",
        "# Отримання рецензій користувача\n",
        "user_ratings = trainset.ur[trainset.to_inner_uid(user_id)]\n",
        "rated_items = set([item for (item, _) in user_ratings])\n",
        "unrated_items = all_items - rated_items\n",
        "\n",
        "# Прогнозування рейтингів для нерецензованих фільмів\n",
        "predictions = [(item, model.predict(user_id, trainset.to_raw_iid(item)).est) for item in unrated_items]\n",
        "predictions.sort(key=lambda x: x[1], reverse=True)"
      ],
      "metadata": {
        "id": "tZUVVYUkBCN8"
      },
      "execution_count": null,
      "outputs": []
    },
    {
      "cell_type": "code",
      "source": [
        "# Виведення 10 найкращих фільмів\n",
        "print(\"Топ-10 фільмів, рекомендованих для користувача:\")\n",
        "for item_id, rating in predictions[:10]:\n",
        "    print(f\"Фільм {trainset.to_raw_iid(item_id)} з прогнозованим рейтингом {rating:.2f}\")"
      ],
      "metadata": {
        "colab": {
          "base_uri": "https://localhost:8080/"
        },
        "id": "LxadD7ecBGYO",
        "outputId": "2df38822-e9f0-4ff4-a075-deac550ec183"
      },
      "execution_count": null,
      "outputs": [
        {
          "output_type": "stream",
          "name": "stdout",
          "text": [
            "Топ-10 фільмів, рекомендованих для користувача:\n",
            "Фільм 318 з прогнозованим рейтингом 4.77\n",
            "Фільм 64 з прогнозованим рейтингом 4.65\n",
            "Фільм 98 з прогнозованим рейтингом 4.59\n",
            "Фільм 408 з прогнозованим рейтингом 4.56\n",
            "Фільм 170 з прогнозованим рейтингом 4.56\n",
            "Фільм 479 з прогнозованим рейтингом 4.53\n",
            "Фільм 525 з прогнозованим рейтингом 4.52\n",
            "Фільм 22 з прогнозованим рейтингом 4.50\n",
            "Фільм 427 з прогнозованим рейтингом 4.49\n",
            "Фільм 178 з прогнозованим рейтингом 4.49\n"
          ]
        }
      ]
    },
    {
      "cell_type": "markdown",
      "source": [
        "Висновок - У даному завданні була побудована рекомендаційна система, що використовує бібліотеку Surprise, на основі датасету ml-100k.Використання RMSE та MAE дозволило оцінити точність моделі. Отримані значення свідчать про адекватність моделі в прогнозуванні рейтингів. Чим нижчі значення, тим вища точність прогнозів. Система згенерувала список з 10 рекомендованих фільмів для конкретного користувача. Ці рекомендації формуються на основі вже виставлених рейтингів користувача"
      ],
      "metadata": {
        "id": "0MDoVoZra6EH"
      }
    }
  ]
}