{
  "nbformat": 4,
  "nbformat_minor": 0,
  "metadata": {
    "colab": {
      "provenance": []
    },
    "kernelspec": {
      "name": "python3",
      "display_name": "Python 3"
    },
    "language_info": {
      "name": "python"
    }
  },
  "cells": [
    {
      "cell_type": "markdown",
      "source": [
        "# Лабораторна робота 1. Варіант 3\n",
        "\n",
        "\n"
      ],
      "metadata": {
        "id": "-VOJFrQgEEsL"
      }
    },
    {
      "cell_type": "code",
      "source": [
        "#Створіть одновимірний масив (вектор) з парними числами від 2 до 20 та виведіть його значення."
      ],
      "metadata": {
        "id": "GMtd_PqMM6pv"
      },
      "execution_count": null,
      "outputs": []
    },
    {
      "cell_type": "code",
      "source": [
        "import numpy as np\n",
        "numbers = np.arange(2, 21, 2)\n",
        "print(numbers)"
      ],
      "metadata": {
        "colab": {
          "base_uri": "https://localhost:8080/"
        },
        "id": "acjbWDYlEiDG",
        "outputId": "bdea09e5-5da6-4399-b2f2-061d794e55d9"
      },
      "execution_count": null,
      "outputs": [
        {
          "output_type": "stream",
          "name": "stdout",
          "text": [
            "[ 2  4  6  8 10 12 14 16 18 20]\n"
          ]
        }
      ]
    },
    {
      "cell_type": "code",
      "source": [
        "#Створіть двовимірний масив (матрицю) розміром 3x3, заповніть його випадковими дійсними числами від 0 до 1 та виведіть його значення."
      ],
      "metadata": {
        "id": "-YQ1lI8qM9lV"
      },
      "execution_count": null,
      "outputs": []
    },
    {
      "cell_type": "code",
      "source": [
        "import numpy as np\n",
        "matrix = np.random.rand(3, 3)\n",
        "print(matrix)"
      ],
      "metadata": {
        "colab": {
          "base_uri": "https://localhost:8080/"
        },
        "id": "CMs6HSGEFAsc",
        "outputId": "a291286b-adf7-40fd-f749-e3218b3ad0b1"
      },
      "execution_count": null,
      "outputs": [
        {
          "output_type": "stream",
          "name": "stdout",
          "text": [
            "[[0.57440868 0.10746384 0.3099688 ]\n",
            " [0.35977806 0.42188751 0.15140504]\n",
            " [0.53884705 0.28021617 0.20405648]]\n"
          ]
        }
      ]
    },
    {
      "cell_type": "code",
      "source": [
        "#Створіть масив розміром 3x3, заповніть його випадковими натуральними числами від 1 до 20 та виведіть його значення."
      ],
      "metadata": {
        "id": "2Mv0ZrW1NBeR"
      },
      "execution_count": null,
      "outputs": []
    },
    {
      "cell_type": "code",
      "source": [
        "import numpy as np\n",
        "random_matrix = np.random.randint(1, 21, size=(3, 3))\n",
        "print(random_matrix)"
      ],
      "metadata": {
        "colab": {
          "base_uri": "https://localhost:8080/"
        },
        "id": "SEW4WlRdFMC4",
        "outputId": "5b117cbc-6b4b-4ee3-da2e-16fe42b70fa1"
      },
      "execution_count": null,
      "outputs": [
        {
          "output_type": "stream",
          "name": "stdout",
          "text": [
            "[[12 18 18]\n",
            " [ 8 13  1]\n",
            " [20 20 19]]\n"
          ]
        }
      ]
    },
    {
      "cell_type": "code",
      "source": [
        "#Створіть масив розміром 4x4, заповніть його випадковими дійсними числами в діапазоні від 0 до 1 та знайдіть мінімальний елемент."
      ],
      "metadata": {
        "id": "nkyLsxG3NE5T"
      },
      "execution_count": null,
      "outputs": []
    },
    {
      "cell_type": "code",
      "source": [
        "import numpy as np\n",
        "random_matrix_4x4 = np.random.rand(4, 4)\n",
        "min_element = np.min(random_matrix_4x4)\n",
        "print(\"Матриця 4x4:\\n\", random_matrix_4x4)\n",
        "print(\"Мінімальний елемент:\", min_element)"
      ],
      "metadata": {
        "colab": {
          "base_uri": "https://localhost:8080/"
        },
        "id": "c2FTHZgFFUYD",
        "outputId": "f57458fd-b0aa-48cd-f3eb-e955698f0d2f"
      },
      "execution_count": null,
      "outputs": [
        {
          "output_type": "stream",
          "name": "stdout",
          "text": [
            "Матриця 4x4:\n",
            " [[0.96527029 0.15779003 0.79961455 0.63803099]\n",
            " [0.50015823 0.56300482 0.40756601 0.57799795]\n",
            " [0.13285807 0.53206678 0.11412975 0.27152211]\n",
            " [0.10881381 0.97779887 0.39378432 0.83094131]]\n",
            "Мінімальний елемент: 0.10881381108337862\n"
          ]
        }
      ]
    },
    {
      "cell_type": "code",
      "source": [
        "#Створіть два одновимірних масиви розміром 7, заповніть їх випадковими цілими числами в діапазоні\n",
        "# від 1 до 15 та виконайте на них поелементні операції додавання, віднімання та множення."
      ],
      "metadata": {
        "id": "4fTRjxoCNJ9z"
      },
      "execution_count": null,
      "outputs": []
    },
    {
      "cell_type": "code",
      "source": [
        "import numpy as np\n",
        "array1 = np.random.randint(1, 16, size=7)\n",
        "array2 = np.random.randint(1, 16, size=7)\n",
        "addition_result = array1 + array2\n",
        "subtraction_result = array1 - array2\n",
        "multiplication_result = array1 * array2\n",
        "print(\"Перший масив:\", array1)\n",
        "print(\"Другий масив:\", array2)\n",
        "print(\"Результат додавання:\", addition_result)\n",
        "print(\"Результат віднімання:\", subtraction_result)\n",
        "print(\"Результат множення:\", multiplication_result)"
      ],
      "metadata": {
        "colab": {
          "base_uri": "https://localhost:8080/"
        },
        "id": "c_J5Pm-aFceR",
        "outputId": "e818d2e7-3df2-4b25-8451-c0919ea5a35b"
      },
      "execution_count": null,
      "outputs": [
        {
          "output_type": "stream",
          "name": "stdout",
          "text": [
            "Перший масив: [ 3  8  8 15  1  3  6]\n",
            "Другий масив: [ 2  1  3  8  3 11 15]\n",
            "Результат додавання: [ 5  9 11 23  4 14 21]\n",
            "Результат віднімання: [ 1  7  5  7 -2 -8 -9]\n",
            "Результат множення: [  6   8  24 120   3  33  90]\n"
          ]
        }
      ]
    },
    {
      "cell_type": "code",
      "source": [
        "#Створіть дві матриці 3x3, заповніть їх довільними цілими числами від 3 до 30 та знайдіть їх добуток."
      ],
      "metadata": {
        "id": "OBH_ADbjNIvd"
      },
      "execution_count": null,
      "outputs": []
    },
    {
      "cell_type": "code",
      "source": [
        "import numpy as np\n",
        "matrix1 = np.random.randint(3, 31, size=(3, 3))\n",
        "matrix2 = np.random.randint(3, 31, size=(3, 3))\n",
        "matrix_add = np.dot(matrix1, matrix2)\n",
        "print(\"Перша матриця:\\n\", matrix1)\n",
        "print(\"Друга матриця:\\n\", matrix2)\n",
        "print(\"Добуток матриць:\\n\", matrix_add)"
      ],
      "metadata": {
        "colab": {
          "base_uri": "https://localhost:8080/"
        },
        "id": "5YByAhBRFqfP",
        "outputId": "5ea85cf6-de56-4761-c23f-d4bd3275b963"
      },
      "execution_count": null,
      "outputs": [
        {
          "output_type": "stream",
          "name": "stdout",
          "text": [
            "Перша матриця:\n",
            " [[29 14 24]\n",
            " [ 5  4  9]\n",
            " [ 3  7 25]]\n",
            "Друга матриця:\n",
            " [[17 19 17]\n",
            " [27 12 17]\n",
            " [25 28  7]]\n",
            "Добуток матриць:\n",
            " [[1471 1391  899]\n",
            " [ 418  395  216]\n",
            " [ 865  841  345]]\n"
          ]
        }
      ]
    },
    {
      "cell_type": "code",
      "source": [
        "#Створіть дві матриці розміром 4x2 та 2x5, заповніть їх випадковими цілими числами в діапазоні від 1 до 7 та перемножте їх між собою."
      ],
      "metadata": {
        "id": "IuuCRFiFNVTV"
      },
      "execution_count": null,
      "outputs": []
    },
    {
      "cell_type": "code",
      "source": [
        "import numpy as np\n",
        "matrix1 = np.random.randint(1, 8, size=(4, 2))\n",
        "matrix2 = np.random.randint(1, 8, size=(2, 5))\n",
        "matrix_add = np.dot(matrix1, matrix2)\n",
        "print(\"Перша матриця (4x2):\\n\", matrix1)\n",
        "print(\"Друга матриця (2x5):\\n\", matrix2)\n",
        "print(\"Добуток матриць:\\n\", matrix_add)"
      ],
      "metadata": {
        "colab": {
          "base_uri": "https://localhost:8080/"
        },
        "id": "wk4f9JeQFwXC",
        "outputId": "53ee6344-27e4-4170-fc34-481079f0dabb"
      },
      "execution_count": null,
      "outputs": [
        {
          "output_type": "stream",
          "name": "stdout",
          "text": [
            "Перша матриця (4x2):\n",
            " [[1 2]\n",
            " [7 7]\n",
            " [1 4]\n",
            " [2 1]]\n",
            "Друга матриця (2x5):\n",
            " [[1 5 3 3 5]\n",
            " [7 6 7 6 4]]\n",
            "Добуток матриць:\n",
            " [[15 17 17 15 13]\n",
            " [56 77 70 63 63]\n",
            " [29 29 31 27 21]\n",
            " [ 9 16 13 12 14]]\n"
          ]
        }
      ]
    },
    {
      "cell_type": "code",
      "source": [
        "#Створіть матрицю розміром 2x2, заповніть її випадковими цілими числами в діапазоні від 1 до 8 та знайдіть її обернену матрицю."
      ],
      "metadata": {
        "id": "8SaAzviwNYZ4"
      },
      "execution_count": null,
      "outputs": []
    },
    {
      "cell_type": "code",
      "source": [
        "import numpy as np\n",
        "matrix = np.random.randint(1, 9, size=(2, 2))\n",
        "print(\"Оригінальна матриця:\")\n",
        "print(matrix)\n",
        "if np.linalg.det(matrix) != 0:\n",
        "    inverse_matrix = np.linalg.inv(matrix)\n",
        "    print(\"Обернена матриця:\")\n",
        "    print(inverse_matrix)\n",
        "else:\n",
        "    print(\"Матриця є сингулярною і не має оберненої.\")"
      ],
      "metadata": {
        "colab": {
          "base_uri": "https://localhost:8080/"
        },
        "id": "6N2IezcoF3Wv",
        "outputId": "e7f3b25c-82b1-464a-ad76-5152716c3def"
      },
      "execution_count": null,
      "outputs": [
        {
          "output_type": "stream",
          "name": "stdout",
          "text": [
            "Оригінальна матриця:\n",
            "[[7 2]\n",
            " [1 2]]\n",
            "Обернена матриця:\n",
            "[[ 0.16666667 -0.16666667]\n",
            " [-0.08333333  0.58333333]]\n"
          ]
        }
      ]
    },
    {
      "cell_type": "code",
      "source": [
        "#Створіть матрицю розміром 2x3, заповніть її випадковими дійсними числами в діапазоні від 0 до 1 та транспонуйте її."
      ],
      "metadata": {
        "id": "JmOxsangNb_U"
      },
      "execution_count": null,
      "outputs": []
    },
    {
      "cell_type": "code",
      "source": [
        "import numpy as np\n",
        "matrix = np.random.rand(2, 3)\n",
        "print(\"Оригінальна матриця:\")\n",
        "print(matrix)\n",
        "transposed_matrix = matrix.T\n",
        "print(\"Транспонована матриця:\")\n",
        "print(transposed_matrix)"
      ],
      "metadata": {
        "colab": {
          "base_uri": "https://localhost:8080/"
        },
        "id": "GB5_AuyrF-WT",
        "outputId": "4ce554ac-a788-4996-f369-f77275ea48f2"
      },
      "execution_count": null,
      "outputs": [
        {
          "output_type": "stream",
          "name": "stdout",
          "text": [
            "Оригінальна матриця:\n",
            "[[0.1942257  0.22029501 0.35261946]\n",
            " [0.89332556 0.99243531 0.08223181]]\n",
            "Транспонована матриця:\n",
            "[[0.1942257  0.89332556]\n",
            " [0.22029501 0.99243531]\n",
            " [0.35261946 0.08223181]]\n"
          ]
        }
      ]
    },
    {
      "cell_type": "code",
      "source": [
        "#Створіть матрицю розміром 3x4 та вектор розміром 4 x1, заповніть їх випадковими цілими числами в діапазоні від 1 до 10 та знайдіть добуток матриці на вектор."
      ],
      "metadata": {
        "id": "dMqI7FWBNhxJ"
      },
      "execution_count": null,
      "outputs": []
    },
    {
      "cell_type": "code",
      "source": [
        "import numpy as np\n",
        "matrix = np.random.randint(1, 11, size=(3, 4))\n",
        "print(\"Матриця 3x4:\")\n",
        "print(matrix)\n",
        "vector = np.random.randint(1, 11, size=(4, 1))\n",
        "print(\"Вектор 4x1:\")\n",
        "print(vector)\n",
        "product = np.dot(matrix, vector)\n",
        "print(\"Добуток матриці на вектор:\")\n",
        "print(product)"
      ],
      "metadata": {
        "colab": {
          "base_uri": "https://localhost:8080/"
        },
        "id": "DimvTqztGFUQ",
        "outputId": "0cb169d0-dc67-4707-c9b0-baa6972a8018"
      },
      "execution_count": null,
      "outputs": [
        {
          "output_type": "stream",
          "name": "stdout",
          "text": [
            "Матриця 3x4:\n",
            "[[9 5 8 8]\n",
            " [2 8 5 3]\n",
            " [3 9 9 5]]\n",
            "Вектор 4x1:\n",
            "[[ 4]\n",
            " [ 9]\n",
            " [10]\n",
            " [10]]\n",
            "Добуток матриці на вектор:\n",
            "[[241]\n",
            " [160]\n",
            " [233]]\n"
          ]
        }
      ]
    },
    {
      "cell_type": "code",
      "source": [
        "#Створіть матрицю розміром 2x3 та вектор розміром 3x1, заповніть матрицю випадковими дійсними числами від 0 до 1,\n",
        "# а вектор - випадковими цілими числами в діапазоні від 1 до 10, і знайдіть добуток матриці на вектор."
      ],
      "metadata": {
        "id": "_RkjomYHNklM"
      },
      "execution_count": null,
      "outputs": []
    },
    {
      "cell_type": "code",
      "source": [
        "import numpy as np\n",
        "matrix = np.random.rand(2, 3)\n",
        "print(\"Матриця 2x3:\")\n",
        "print(matrix)\n",
        "vector = np.random.randint(1, 11, size=(3, 1))\n",
        "print(\"Вектор 3x1:\")\n",
        "print(vector)\n",
        "product = np.dot(matrix, vector)\n",
        "print(\"Добуток матриці на вектор:\")\n",
        "print(product)"
      ],
      "metadata": {
        "colab": {
          "base_uri": "https://localhost:8080/"
        },
        "id": "oG2ZodcOGLWT",
        "outputId": "85b325be-8204-4249-c9db-524782fadb54"
      },
      "execution_count": null,
      "outputs": [
        {
          "output_type": "stream",
          "name": "stdout",
          "text": [
            "Матриця 2x3:\n",
            "[[0.57606125 0.75365915 0.79687185]\n",
            " [0.88248328 0.87030087 0.04998316]]\n",
            "Вектор 3x1:\n",
            "[[10]\n",
            " [10]\n",
            " [ 2]]\n",
            "Добуток матриці на вектор:\n",
            "[[14.89094768]\n",
            " [17.62780778]]\n"
          ]
        }
      ]
    },
    {
      "cell_type": "code",
      "source": [
        "#Створіть дві матриці розміром 4x4, заповніть їх випадковими цілими числами в діапазоні від 1 до 10 та знайдіть їхню суму."
      ],
      "metadata": {
        "id": "m75zOYzBNp21"
      },
      "execution_count": null,
      "outputs": []
    },
    {
      "cell_type": "code",
      "source": [
        "import numpy as np\n",
        "matrix1 = np.random.randint(1, 11, size=(4, 4))\n",
        "print(\"Перша матриця 4x4:\")\n",
        "print(matrix1)\n",
        "matrix2 = np.random.randint(1, 11, size=(4, 4))\n",
        "print(\"Друга матриця 4x4:\")\n",
        "print(matrix2)\n",
        "sum_matrix = matrix1 + matrix2\n",
        "print(\"Сума матриць:\")\n",
        "print(sum_matrix)"
      ],
      "metadata": {
        "colab": {
          "base_uri": "https://localhost:8080/"
        },
        "id": "-xP4WqxzGRu-",
        "outputId": "a0bd35ab-8e12-42b5-fa6f-23cbd9236d99"
      },
      "execution_count": null,
      "outputs": [
        {
          "output_type": "stream",
          "name": "stdout",
          "text": [
            "Перша матриця 4x4:\n",
            "[[2 6 6 8]\n",
            " [7 9 7 5]\n",
            " [8 2 4 1]\n",
            " [1 8 9 7]]\n",
            "Друга матриця 4x4:\n",
            "[[ 4  9  6  8]\n",
            " [ 7  4  5  7]\n",
            " [ 4  6  3 10]\n",
            " [ 3  9  8  3]]\n",
            "Сума матриць:\n",
            "[[ 6 15 12 16]\n",
            " [14 13 12 12]\n",
            " [12  8  7 11]\n",
            " [ 4 17 17 10]]\n"
          ]
        }
      ]
    },
    {
      "cell_type": "code",
      "source": [
        "#Створіть дві матриці розміром 4x4, заповніть їх випадковими дійсними числами в діапазоні від -1 до 1 та знайдіть їх добуток."
      ],
      "metadata": {
        "id": "HutHLbfjNtvX"
      },
      "execution_count": null,
      "outputs": []
    },
    {
      "cell_type": "code",
      "source": [
        "import numpy as np\n",
        "matrix1 = 2 * np.random.rand(4, 4) - 1\n",
        "print(\"Перша матриця 4x4:\")\n",
        "print(matrix1)\n",
        "matrix2 = 2 * np.random.rand(4, 4) - 1\n",
        "print(\"Друга матриця 4x4:\")\n",
        "print(matrix2)\n",
        "product_matrix = np.dot(matrix1, matrix2)\n",
        "print(\"Добуток матриць:\")\n",
        "print(product_matrix)"
      ],
      "metadata": {
        "colab": {
          "base_uri": "https://localhost:8080/"
        },
        "id": "x_JrsoBPGYLf",
        "outputId": "d85ab219-a18f-48b6-c55f-b4812936ac7c"
      },
      "execution_count": null,
      "outputs": [
        {
          "output_type": "stream",
          "name": "stdout",
          "text": [
            "Перша матриця 4x4:\n",
            "[[ 0.34362775 -0.31326021 -0.96689834 -0.26513273]\n",
            " [ 0.10490623  0.37825504  0.17367143 -0.8937116 ]\n",
            " [-0.14836766  0.82450654  0.23793412 -0.11163807]\n",
            " [ 0.38153139  0.38031646 -0.07852931 -0.26758529]]\n",
            "Друга матриця 4x4:\n",
            "[[ 0.40764397  0.37643381 -0.55396793 -0.83419795]\n",
            " [ 0.58510361  0.70706245  0.8382136   0.43926883]\n",
            " [ 0.35700012  0.75431395 -0.95288514 -0.66104039]\n",
            " [ 0.59834099 -0.26115968 -0.43676688  0.21292729]]\n",
            "Добуток матриць:\n",
            "[[-0.5470345  -0.75224435  0.58420653  0.15844585]\n",
            " [-0.20866078  0.67134441  0.48379854 -0.22645633]\n",
            " [ 0.44008544  0.7357594   0.59533944  0.30489316]\n",
            " [ 0.18991129  0.42317554  0.29913208 -0.15627671]]\n"
          ]
        }
      ]
    },
    {
      "cell_type": "code",
      "source": [
        "#Створіть матрицю розміром 3x3, заповніть її випадковими дійсними числами в діапазоні від -1 до 1 та знайдіть суму елементів матриці."
      ],
      "metadata": {
        "id": "EUeL33r2NxTp"
      },
      "execution_count": null,
      "outputs": []
    },
    {
      "cell_type": "code",
      "source": [
        "import numpy as np\n",
        "matrix = 2 * np.random.rand(3, 3) - 1\n",
        "print(\"Матриця 3x3:\")\n",
        "print(matrix)\n",
        "sum_elements = np.sum(matrix)\n",
        "print(\"Сума елементів матриці:\")\n",
        "print(sum_elements)"
      ],
      "metadata": {
        "colab": {
          "base_uri": "https://localhost:8080/"
        },
        "id": "vZsyslC-GedU",
        "outputId": "1d604d97-7ae6-4a89-b27d-7d4262ad3b32"
      },
      "execution_count": null,
      "outputs": [
        {
          "output_type": "stream",
          "name": "stdout",
          "text": [
            "Матриця 3x3:\n",
            "[[ 0.77616464  0.9517044   0.86991857]\n",
            " [ 0.81462845  0.56569743 -0.90632544]\n",
            " [ 0.36420431 -0.49068308 -0.51769629]]\n",
            "Сума елементів матриці:\n",
            "2.427612990665568\n"
          ]
        }
      ]
    },
    {
      "cell_type": "code",
      "source": [
        "#Створіть матрицю розміром 5x5, заповніть її випадковими дійсними числами в діапазоні від -0.5 до 0.5 та знайдіть вектор-стовпчик, що містить суму елементів кожного рядка матриці."
      ],
      "metadata": {
        "id": "SU-ehfmvLxVE"
      },
      "execution_count": null,
      "outputs": []
    },
    {
      "cell_type": "code",
      "source": [
        "import numpy as np\n",
        "matrix = np.random.rand(5, 5) - 0.5\n",
        "print(\"Матриця 5x5:\")\n",
        "print(matrix)\n",
        "sums = np.sum(matrix, axis=1)\n",
        "print(\"Вектор-стовпчик, що містить суму елементів кожного рядка:\")\n",
        "print(sums)"
      ],
      "metadata": {
        "colab": {
          "base_uri": "https://localhost:8080/"
        },
        "id": "iHNZ-tX0Gk_6",
        "outputId": "c2f88578-fef7-4801-8f8d-eb0552d0b6d6"
      },
      "execution_count": null,
      "outputs": [
        {
          "output_type": "stream",
          "name": "stdout",
          "text": [
            "Матриця 5x5:\n",
            "[[ 0.12246823  0.49822063 -0.26072714  0.19669304  0.27016178]\n",
            " [ 0.44435381  0.24611628 -0.40576252 -0.44417591 -0.12968873]\n",
            " [ 0.27654536 -0.01246543  0.1418621   0.30895821 -0.20361181]\n",
            " [-0.03490685  0.17631471  0.17244398 -0.11817054  0.15656408]\n",
            " [-0.19314065  0.09133471 -0.31942155  0.32232197 -0.18081935]]\n",
            "Вектор-стовпчик, що містить суму елементів кожного рядка:\n",
            "[ 0.82681653 -0.28915707  0.51128843  0.35224539 -0.27972487]\n"
          ]
        }
      ]
    },
    {
      "cell_type": "code",
      "source": [
        "#Висновок - на даній лабораторній роботі, я розробила програми для машиного навчання з елементами лінійної алгебри та створила репозиторій на GitHub.\n",
        "#https://github.com/dassha5/machine_learning"
      ],
      "metadata": {
        "id": "SYDTAYkSMzdd"
      },
      "execution_count": null,
      "outputs": []
    }
  ]
}